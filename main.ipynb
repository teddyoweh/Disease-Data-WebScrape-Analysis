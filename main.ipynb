{
 "cells": [
  {
   "cell_type": "code",
   "execution_count": 11,
   "id": "63564c15",
   "metadata": {},
   "outputs": [],
   "source": [
    "import pandas as pd\n",
    "import requests\n",
    "import lxml.html as lh\n",
    "import pandas as pd"
   ]
  },
  {
   "cell_type": "code",
   "execution_count": 12,
   "id": "cc27a196",
   "metadata": {},
   "outputs": [],
   "source": [
    "url='https://people.dbmi.columbia.edu/~friedma/Projects/DiseaseSymptomKB/index.html'\n",
    "#Create a handle, page, to handle the contents of the website\n",
    "page = requests.get(url)\n",
    "#Store the contents of the website under doc\n",
    "doc = lh.fromstring(page.content)\n",
    "#Parse data that are stored between <tr>..</tr> of HTML\n",
    "tr_elements = doc.xpath('//tr')"
   ]
  },
  {
   "cell_type": "code",
   "execution_count": 25,
   "id": "55df6a94",
   "metadata": {},
   "outputs": [
    {
     "data": {
      "text/plain": [
       "[3, 3, 3, 3, 3, 3, 3, 3, 3, 3, 3, 3]"
      ]
     },
     "execution_count": 25,
     "metadata": {},
     "output_type": "execute_result"
    }
   ],
   "source": [
    "[len(T) for T in tr_elements[:12]]"
   ]
  },
  {
   "cell_type": "code",
   "execution_count": 56,
   "id": "62bf611c",
   "metadata": {},
   "outputs": [
    {
     "name": "stdout",
     "output_type": "stream",
     "text": [
      "1:\"Disease\"\n",
      "2:\"CountofDiseaseOccurrence\"\n",
      "3:\"Symptom\"\n"
     ]
    }
   ],
   "source": [
    "tr_elements = doc.xpath('//tr')\n",
    "#Create empty list\n",
    "col=[]\n",
    "i=0\n",
    "#For each row, store each first element (header) and an empty list\n",
    "for t in tr_elements[0]:\n",
    "    i+=1\n",
    "    name=str(t.text_content()).strip('\\n').replace('\\n','').replace(' ','')\n",
    "    print('%d:\"%s\"'%(i,name))\n",
    "    col.append((name,[]))"
   ]
  },
  {
   "cell_type": "code",
   "execution_count": 175,
   "id": "f8c49dea",
   "metadata": {},
   "outputs": [
    {
     "data": {
      "text/plain": [
       "1867"
      ]
     },
     "execution_count": 175,
     "metadata": {},
     "output_type": "execute_result"
    }
   ],
   "source": [
    "len(tr_elements)"
   ]
  },
  {
   "cell_type": "code",
   "execution_count": 114,
   "id": "4096a346",
   "metadata": {},
   "outputs": [],
   "source": [
    "def prewc(word):\n",
    "    for i in range(len(word)):\n",
    "        try:\n",
    "            int(word)\n",
    "            return word\n",
    "        except:\n",
    "            if word[i]=='_':\n",
    "                return word[i+1:]\n",
    "def preoc(i:int):\n",
    "    word = str(tr_elements[int(i)].text_content().replace('\\n  \\n  \\n  ',',').replace('\\n  \\n  ','').replace('\\n  ','').replace('\\n ',''))\n",
    "    words =[prewc(w)  for w in  word.split(',') ]\n",
    "    return words"
   ]
  },
  {
   "cell_type": "code",
   "execution_count": 219,
   "id": "6d3f81d2",
   "metadata": {},
   "outputs": [
    {
     "name": "stdout",
     "output_type": "stream",
     "text": [
      "134\n"
     ]
    }
   ],
   "source": [
    "doc={}\n",
    "a=0\n",
    "for j in range(1,len(tr_elements)):\n",
    "    ans = preoc(j)\n",
    "    #print(ans)\n",
    " \n",
    "    if ans[0]!=None:\n",
    "        a+=1\n",
    "        box=[]\n",
    "        box.append(ans[2])\n",
    "        doc[str(a)]={'disease':ans[0],\n",
    "                    'occurence':ans[1],\n",
    "                    'symptoms':box}\n",
    "    else:\n",
    "        box.append(ans[2])\n",
    "\n",
    "disease=[]\n",
    "occurrence=[]\n",
    "symptoms=[]\n",
    "symptomsno=[]\n",
    "for c in doc.values():\n",
    "    sym=''\n",
    "    for x in c['symptoms']:\n",
    "        sym+=','+str(x)\n",
    "    disease.append(c['disease'])\n",
    "    symptomsno.append(len(c['symptoms']))\n",
    "    occurrence.append(int(c['occurence']))\n",
    "    symptoms.append(sym.strip(','))\n",
    "    "
   ]
  },
  {
   "cell_type": "code",
   "execution_count": 215,
   "id": "cd4cd86b",
   "metadata": {},
   "outputs": [],
   "source": [
    "\n",
    "df=pd.DataFrame(columns=['Disease', 'Occurrence', 'Symptoms','Symptoms No'])\n",
    "\n",
    "df['Disease']=disease\n",
    "df['Occurrence']=occurrence\n",
    "df['Symptoms']=symptoms\n",
    "df['Symptoms No']=symptomsno"
   ]
  },
  {
   "cell_type": "code",
   "execution_count": 217,
   "id": "a0900c4d",
   "metadata": {},
   "outputs": [
    {
     "data": {
      "text/plain": [
       "134"
      ]
     },
     "execution_count": 217,
     "metadata": {},
     "output_type": "execute_result"
    }
   ],
   "source": [
    "len(df)"
   ]
  },
  {
   "cell_type": "code",
   "execution_count": 218,
   "id": "8f1e0f01",
   "metadata": {},
   "outputs": [
    {
     "data": {
      "text/plain": [
       "Disease        0\n",
       "Occurrence     0\n",
       "Symptoms       0\n",
       "Symptoms No    0\n",
       "dtype: int64"
      ]
     },
     "execution_count": 218,
     "metadata": {},
     "output_type": "execute_result"
    }
   ],
   "source": [
    "df.isna().sum()"
   ]
  },
  {
   "cell_type": "code",
   "execution_count": 184,
   "id": "ec88e0ba",
   "metadata": {},
   "outputs": [
    {
     "name": "stdout",
     "output_type": "stream",
     "text": [
      "depressionmental^UMLS:C0011581_depressive disorder\n"
     ]
    }
   ],
   "source": [
    "print(df.iloc[2]['Disease'])\n"
   ]
  },
  {
   "cell_type": "code",
   "execution_count": 220,
   "id": "00b8b16d",
   "metadata": {},
   "outputs": [
    {
     "data": {
      "text/plain": [
       "<matplotlib.legend.Legend at 0x1f73b02ec40>"
      ]
     },
     "execution_count": 220,
     "metadata": {},
     "output_type": "execute_result"
    },
    {
     "data": {
      "image/png": "[encoded data removed]",
      "text/plain": [
       "<Figure size 432x288 with 2 Axes>"
      ]
     },
     "metadata": {
      "needs_background": "light"
     },
     "output_type": "display_data"
    }
   ],
   "source": [
    " \n",
    "newdf= pd.DataFrame({'Symptoms No': symptomsno,\n",
    "                   'Occurrence': occurrence}, index=disease)\n",
    "ax = newdf.plot.bar(rot=0,subplots=True)\n",
    "ax[1].legend(loc=2) "
   ]
  },
  {
   "cell_type": "code",
   "execution_count": 221,
   "id": "3331469f",
   "metadata": {},
   "outputs": [
    {
     "data": {
      "text/plain": [
       "443"
      ]
     },
     "execution_count": 221,
     "metadata": {},
     "output_type": "execute_result"
    }
   ],
   "source": [
    "def unique(list1):\n",
    "  \n",
    "    # initialize a null list\n",
    "    unique_list = []\n",
    "      \n",
    "    # traverse for all elements\n",
    "    for x in list1:\n",
    "        # check if exists in unique_list or not\n",
    "        if x not in unique_list:\n",
    "            unique_list.append(x)\n",
    "    # print list\n",
    "    return unique_list\n",
    "      \n",
    "ccc =[a for a in df['Symptoms']]\n",
    "len(unique(','.join(ccc).split(',')))"
   ]
  },
  {
   "cell_type": "code",
   "execution_count": 222,
   "id": "46f25d60",
   "metadata": {},
   "outputs": [
    {
     "data": {
      "text/plain": [
       "1866"
      ]
     },
     "execution_count": 222,
     "metadata": {},
     "output_type": "execute_result"
    }
   ],
   "source": [
    "len(','.join(ccc).split(','))"
   ]
  },
  {
   "cell_type": "code",
   "execution_count": 223,
   "id": "3d5b3fc1",
   "metadata": {},
   "outputs": [],
   "source": [
    "df.to_csv('data_src.csv')"
   ]
  },
  {
   "cell_type": "code",
   "execution_count": null,
   "id": "8091d58c",
   "metadata": {},
   "outputs": [],
   "source": []
  }
 ],
 "metadata": {
  "kernelspec": {
   "display_name": "Python 3 (ipykernel)",
   "language": "python",
   "name": "python3"
  },
  "language_info": {
   "codemirror_mode": {
    "name": "ipython",
    "version": 3
   },
   "file_extension": ".py",
   "mimetype": "text/x-python",
   "name": "python",
   "nbconvert_exporter": "python",
   "pygments_lexer": "ipython3",
   "version": "3.9.12"
  }
 },
 "nbformat": 4,
 "nbformat_minor": 5
}
